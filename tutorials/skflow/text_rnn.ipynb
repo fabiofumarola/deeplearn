{
 "cells": [
  {
   "cell_type": "code",
   "execution_count": 122,
   "metadata": {
    "collapsed": true
   },
   "outputs": [],
   "source": [
    "import numpy as np\n",
    "from sklearn import metrics\n",
    "import pandas\n",
    "\n",
    "import tensorflow as tf\n",
    "from tensorflow.models.rnn import rnn, rnn_cell\n",
    "import skflow"
   ]
  },
  {
   "cell_type": "code",
   "execution_count": 123,
   "metadata": {
    "collapsed": true
   },
   "outputs": [],
   "source": [
    "train = pandas.read_csv('dbpedia_csv/train.csv', header=None)\n",
    "test = pandas.read_csv('dbpedia_csv/test.csv', header=None)"
   ]
  },
  {
   "cell_type": "code",
   "execution_count": 124,
   "metadata": {
    "collapsed": false
   },
   "outputs": [],
   "source": [
    "X_train, y_train = train[2], train[0]\n",
    "X_test, y_test = test[2], test[0]"
   ]
  },
  {
   "cell_type": "code",
   "execution_count": 125,
   "metadata": {
    "collapsed": true
   },
   "outputs": [],
   "source": [
    "MAX_DOCUMENT_LENGTH = 100"
   ]
  },
  {
   "cell_type": "code",
   "execution_count": 126,
   "metadata": {
    "collapsed": true
   },
   "outputs": [],
   "source": [
    "char_processor = skflow.preprocessing.ByteProcessor(MAX_DOCUMENT_LENGTH)"
   ]
  },
  {
   "cell_type": "code",
   "execution_count": 127,
   "metadata": {
    "collapsed": false
   },
   "outputs": [],
   "source": [
    "X_train = np.array(list(char_processor.fit_transform(X_train)))\n",
    "X_test = np.array(list(char_processor.transform(X_test)))"
   ]
  },
  {
   "cell_type": "code",
   "execution_count": 128,
   "metadata": {
    "collapsed": false
   },
   "outputs": [],
   "source": [
    "HIDDEN_SIZE = 128\n",
    "\n",
    "def char_rnn_model(X,y):\n",
    "    byte_list = skflow.ops.one_hot_matrix(X, 256)\n",
    "    byte_list = skflow.ops.split_squeeze(1, MAX_DOCUMENT_LENGTH, byte_list)\n",
    "    cell = rnn_cell.GRUCell(HIDDEN_SIZE)\n",
    "    _, encoding = rnn.rnn(cell, byte_list, dtype=tf.float32)\n",
    "    return skflow.models.logistic_regression(encoding[-1], y)"
   ]
  },
  {
   "cell_type": "code",
   "execution_count": 129,
   "metadata": {
    "collapsed": true
   },
   "outputs": [],
   "source": [
    "classifier = skflow.TensorFlowEstimator(model_fn=char_rnn_model, n_classes=15,\n",
    "    steps=100, optimizer='Adam', learning_rate=0.01, continue_training=True)"
   ]
  },
  {
   "cell_type": "code",
   "execution_count": 130,
   "metadata": {
    "collapsed": false
   },
   "outputs": [
    {
     "name": "stdout",
     "output_type": "stream",
     "text": [
      "Step #1, avg. loss: 3.30363\n",
      "Step #11, avg. loss: 2.97571\n",
      "Step #21, avg. loss: 2.70808\n",
      "Step #31, avg. loss: 2.69752\n",
      "Step #41, avg. loss: 2.61704\n",
      "Step #51, avg. loss: 2.59103\n",
      "Step #61, avg. loss: 2.58642\n",
      "Step #71, avg. loss: 2.54714\n",
      "Step #81, avg. loss: 2.52415\n",
      "Step #91, avg. loss: 2.44612\n",
      "Accuracy: 0.227571\n"
     ]
    }
   ],
   "source": [
    "for i in range(1):\n",
    "    classifier.fit(X_train,y_train, logdir='./model_1')\n",
    "    score = metrics.accuracy_score(classifier.predict(X_test), y_test)\n",
    "    print(\"Accuracy: %f\" % score)"
   ]
  },
  {
   "cell_type": "code",
   "execution_count": 131,
   "metadata": {
    "collapsed": false
   },
   "outputs": [],
   "source": [
    "predictions = classifier.predict(X_test[0:1])"
   ]
  },
  {
   "cell_type": "code",
   "execution_count": 132,
   "metadata": {
    "collapsed": false
   },
   "outputs": [
    {
     "data": {
      "text/plain": [
       "array([11])"
      ]
     },
     "execution_count": 132,
     "metadata": {},
     "output_type": "execute_result"
    }
   ],
   "source": [
    "predictions"
   ]
  },
  {
   "cell_type": "code",
   "execution_count": 80,
   "metadata": {
    "collapsed": false
   },
   "outputs": [
    {
     "data": {
      "text/plain": [
       "(70000, 100)"
      ]
     },
     "execution_count": 80,
     "metadata": {},
     "output_type": "execute_result"
    }
   ],
   "source": [
    "X_test.shape"
   ]
  },
  {
   "cell_type": "code",
   "execution_count": 83,
   "metadata": {
    "collapsed": false
   },
   "outputs": [
    {
     "data": {
      "text/plain": [
       "array([[ 32,  84,  89,  32,  75,  85,  32,  47, 116,  97, 201, 170, 107,\n",
       "        117, 203, 144,  47,  32, 105, 115,  32,  97, 110,  32,  65, 109,\n",
       "        101, 114, 105,  99,  97, 110,  32,  97, 108,  99, 111, 104, 111,\n",
       "        108, 105,  99,  32,  98, 101, 118, 101, 114,  97, 103, 101,  32,\n",
       "         99, 111, 109, 112,  97, 110, 121,  32, 116, 104,  97, 116,  32,\n",
       "        115, 112, 101,  99, 105,  97, 108, 105, 122, 101, 115,  32, 105,\n",
       "        110,  32, 115,  97, 107, 101,  32,  97, 110, 100,  32, 111, 116,\n",
       "        104, 101, 114,  32, 115, 112, 105, 114, 105]], dtype=uint8)"
      ]
     },
     "execution_count": 83,
     "metadata": {},
     "output_type": "execute_result"
    }
   ],
   "source": [
    "X_test[0:1]"
   ]
  },
  {
   "cell_type": "code",
   "execution_count": 86,
   "metadata": {
    "collapsed": false
   },
   "outputs": [
    {
     "data": {
      "text/plain": [
       "' TY KU /taɪkuː/ is an American alcoholic beverage company that specializes in sake and other spiri'"
      ]
     },
     "execution_count": 86,
     "metadata": {},
     "output_type": "execute_result"
    }
   ],
   "source": [
    "\"\".join(char_processor.reverse(X_test[0:1]))"
   ]
  },
  {
   "cell_type": "code",
   "execution_count": 111,
   "metadata": {
    "collapsed": true
   },
   "outputs": [],
   "source": [
    "b = skflow.ops.one_hot_matrix(X_test[0:1],256)"
   ]
  },
  {
   "cell_type": "code",
   "execution_count": null,
   "metadata": {
    "collapsed": true
   },
   "outputs": [],
   "source": []
  }
 ],
 "metadata": {
  "kernelspec": {
   "display_name": "Python 3",
   "language": "python",
   "name": "python3"
  },
  "language_info": {
   "codemirror_mode": {
    "name": "ipython",
    "version": 3
   },
   "file_extension": ".py",
   "mimetype": "text/x-python",
   "name": "python",
   "nbconvert_exporter": "python",
   "pygments_lexer": "ipython3",
   "version": "3.5.1"
  }
 },
 "nbformat": 4,
 "nbformat_minor": 0
}
